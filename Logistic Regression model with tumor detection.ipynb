{
 "cells": [
  {
   "cell_type": "markdown",
   "id": "40fd031a",
   "metadata": {},
   "source": [
    "#                               Logistic Regression Model"
   ]
  },
  {
   "cell_type": "markdown",
   "id": "6e04c01d",
   "metadata": {},
   "source": [
    "### Lading Libraries"
   ]
  },
  {
   "cell_type": "code",
   "execution_count": null,
   "id": "ee22cf8a",
   "metadata": {},
   "outputs": [],
   "source": [
    "import tensorflow as tf\n",
    "from tensorflow.keras.applications.resnet50 import preprocess_input\n",
    "from tensorflow.keras.preprocessing.image import ImageDataGenerator\n",
    "from sklearn.linear_model import LogisticRegression\n",
    "from sklearn.metrics import accuracy_score, confusion_matrix, precision_score, recall_score, f1_score\n",
    "import matplotlib.pyplot as plt\n",
    "import seaborn as sns "
   ]
  },
  {
   "cell_type": "markdown",
   "id": "ac7bbce6",
   "metadata": {},
   "source": [
    "### Load the pre-trained ResNet50 model without the classifier layer"
   ]
  },
  {
   "cell_type": "code",
   "execution_count": null,
   "id": "cbe9b401",
   "metadata": {},
   "outputs": [],
   "source": [
    "\n",
    "base_model = tf.keras.applications.ResNet50(weights='imagenet', include_top=False, pooling='avg')"
   ]
  },
  {
   "cell_type": "markdown",
   "id": "df5859fc",
   "metadata": {},
   "source": [
    "### Preprocess the images"
   ]
  },
  {
   "cell_type": "code",
   "execution_count": null,
   "id": "6f6c98b8",
   "metadata": {},
   "outputs": [],
   "source": [
    "datagen = ImageDataGenerator(preprocessing_function=preprocess_input)\n",
    "train_data = datagen.flow_from_directory('train_directory', target_size=(224, 224), batch_size=32)\n",
    "test_data = datagen.flow_from_directory('test_directory', target_size=(224, 224), batch_size=32)\n"
   ]
  },
  {
   "cell_type": "markdown",
   "id": "4d3b617e",
   "metadata": {},
   "source": [
    "### Extract features using the pre-trained model and Flatten them into a 1D array"
   ]
  },
  {
   "cell_type": "code",
   "execution_count": null,
   "id": "88a11a40",
   "metadata": {},
   "outputs": [],
   "source": [
    "train_features = base_model.predict(train_data)\n",
    "test_features = base_model.predict(test_data)\n",
    "\n",
    "train_features_flat = train_features.reshape(train_features.shape[0], -1)\n",
    "test_features_flat = test_features.reshape(test_features.shape[0], -1)"
   ]
  },
  {
   "cell_type": "markdown",
   "id": "bc51fb9a",
   "metadata": {},
   "source": [
    "### Retrieve the class labels"
   ]
  },
  {
   "cell_type": "code",
   "execution_count": null,
   "id": "881dce8b",
   "metadata": {},
   "outputs": [],
   "source": [
    "train_labels = train_data.classes\n",
    "test_labels = test_data.classes\n"
   ]
  },
  {
   "cell_type": "markdown",
   "id": "aa4b4af7",
   "metadata": {},
   "source": [
    "### Build and train the model"
   ]
  },
  {
   "cell_type": "code",
   "execution_count": 1,
   "id": "14da3dea",
   "metadata": {
    "collapsed": true
   },
   "outputs": [
    {
     "name": "stdout",
     "output_type": "stream",
     "text": [
      "Found 7978 images belonging to 2 classes.\n",
      "Found 1277 images belonging to 2 classes.\n",
      "250/250 [==============================] - 2428s 10s/step\n",
      "40/40 [==============================] - 386s 10s/step\n",
      "Accuracy: 0.9373531714956931\n"
     ]
    },
    {
     "name": "stderr",
     "output_type": "stream",
     "text": [
      "E:\\APPS\\python app\\Lib\\site-packages\\sklearn\\linear_model\\_logistic.py:458: ConvergenceWarning: lbfgs failed to converge (status=1):\n",
      "STOP: TOTAL NO. of ITERATIONS REACHED LIMIT.\n",
      "\n",
      "Increase the number of iterations (max_iter) or scale the data as shown in:\n",
      "    https://scikit-learn.org/stable/modules/preprocessing.html\n",
      "Please also refer to the documentation for alternative solver options:\n",
      "    https://scikit-learn.org/stable/modules/linear_model.html#logistic-regression\n",
      "  n_iter_i = _check_optimize_result(\n"
     ]
    }
   ],
   "source": [
    "# Create the logistic regression model\n",
    "model = LogisticRegression()\n",
    "\n",
    "# Train the model\n",
    "model.fit(train_features_flat, train_labels)\n",
    "\n",
    "# Make predictions on the testing set\n",
    "predictions = model.predict(test_features_flat)\n"
   ]
  },
  {
   "cell_type": "markdown",
   "id": "c1845d35",
   "metadata": {},
   "source": [
    "### Confusion Matrix"
   ]
  },
  {
   "cell_type": "code",
   "execution_count": 9,
   "id": "3d929858",
   "metadata": {
    "collapsed": true
   },
   "outputs": [
    {
     "data": {
      "image/png": "[encoded data removed]",
      "text/plain": [
       "<Figure size 800x600 with 2 Axes>"
      ]
     },
     "metadata": {},
     "output_type": "display_data"
    }
   ],
   "source": [
    "cofus_matrix = confusion_matrix(test_labels, predictions)\n",
    "\n",
    "plt.figure(figsize=(8, 6))\n",
    "sns.heatmap(cofus_matrix, annot=True, fmt='d', cmap='Blues')\n",
    "plt.xlabel('Predicted')\n",
    "plt.ylabel('Actual')\n",
    "plt.title('Confusion Matrix')\n",
    "plt.show()"
   ]
  },
  {
   "cell_type": "markdown",
   "id": "b80c6949",
   "metadata": {},
   "source": [
    "### Calculate the metrics of the model"
   ]
  },
  {
   "cell_type": "code",
   "execution_count": 12,
   "id": "6dc9bfff",
   "metadata": {
    "collapsed": true
   },
   "outputs": [
    {
     "name": "stdout",
     "output_type": "stream",
     "text": [
      "Accuracy: 0.9373531714956931\n",
      "Precision: 0.8956161995242389\n",
      "Recall: 0.9373531714956931\n",
      "F1-score: 0.9107620182648217\n"
     ]
    }
   ],
   "source": [
    "# Calculate the accuracy of the model\n",
    "accuracy = accuracy_score(test_labels, predictions)\n",
    "print(\"Accuracy:\", accuracy)\n",
    "\n",
    "# Calculate precision\n",
    "precision = precision_score(test_labels, predictions, average='weighted')\n",
    "print(\"Precision:\", precision)\n",
    "\n",
    "# Calculate recall\n",
    "recall = recall_score(test_labels, predictions, average='weighted')\n",
    "print(\"Recall:\", recall)\n",
    "\n",
    "# Calculate F1-score\n",
    "f1 = f1_score(test_labels, predictions, average='weighted')\n",
    "print(\"F1-score:\", f1)"
   ]
  },
  {
   "cell_type": "code",
   "execution_count": null,
   "id": "db8a20c5",
   "metadata": {},
   "outputs": [],
   "source": []
  }
 ],
 "metadata": {
  "kernelspec": {
   "display_name": "Python 3 (ipykernel)",
   "language": "python",
   "name": "python3"
  },
  "language_info": {
   "codemirror_mode": {
    "name": "ipython",
    "version": 3
   },
   "file_extension": ".py",
   "mimetype": "text/x-python",
   "name": "python",
   "nbconvert_exporter": "python",
   "pygments_lexer": "ipython3",
   "version": "3.11.3"
  }
 },
 "nbformat": 4,
 "nbformat_minor": 5
}
